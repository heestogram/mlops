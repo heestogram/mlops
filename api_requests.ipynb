{
  "nbformat": 4,
  "nbformat_minor": 0,
  "metadata": {
    "colab": {
      "provenance": []
    },
    "kernelspec": {
      "name": "python3",
      "display_name": "Python 3"
    },
    "language_info": {
      "name": "python"
    }
  },
  "cells": [
    {
      "cell_type": "code",
      "execution_count": null,
      "metadata": {
        "id": "rrQs5ZUBcH0Y"
      },
      "outputs": [],
      "source": [
        "import requests"
      ]
    },
    {
      "cell_type": "code",
      "source": [
        "ip = 'https://urban-funicular-r4rv4gx4px6w35r4q-8000.app.github.dev/predict'"
      ],
      "metadata": {
        "id": "BLCr6kgKcKf8"
      },
      "execution_count": null,
      "outputs": []
    },
    {
      "cell_type": "code",
      "source": [
        "headers = {'accept': 'application/json', 'Content-Type': 'application/json'}"
      ],
      "metadata": {
        "id": "_1_D9Fl9cNbL"
      },
      "execution_count": null,
      "outputs": []
    },
    {
      "cell_type": "code",
      "source": [
        "data = {\"data\": [[0,0,0,0]]}"
      ],
      "metadata": {
        "id": "rajcTo4uceJD"
      },
      "execution_count": null,
      "outputs": []
    },
    {
      "cell_type": "code",
      "source": [
        "output = requests.post(url=ip, headers=headers, json=data)"
      ],
      "metadata": {
        "id": "07BRHGrOckFf"
      },
      "execution_count": null,
      "outputs": []
    },
    {
      "cell_type": "code",
      "source": [
        "output.status_code"
      ],
      "metadata": {
        "id": "PMkBHVqacuV7"
      },
      "execution_count": null,
      "outputs": []
    },
    {
      "cell_type": "code",
      "source": [
        "output.json()"
      ],
      "metadata": {
        "id": "W3sRSVohdFp1"
      },
      "execution_count": null,
      "outputs": []
    },
    {
      "cell_type": "code",
      "source": [],
      "metadata": {
        "id": "EiTlH0s_dGlt"
      },
      "execution_count": null,
      "outputs": []
    }
  ]
}